{
 "cells": [
  {
   "cell_type": "code",
   "execution_count": 1,
   "id": "463074a7",
   "metadata": {},
   "outputs": [],
   "source": [
    "import gym\n",
    "import gym_maze\n",
    "import numpy as np\n",
    "import random"
   ]
  },
  {
   "cell_type": "code",
   "execution_count": 2,
   "outputs": [],
   "source": [
    "# Create an environment\n",
    "env = gym.make(\"maze-random-10x10-plus-v0\")\n",
    "observation = env.reset()"
   ],
   "metadata": {
    "collapsed": false,
    "ExecuteTime": {
     "end_time": "2023-12-25T11:05:00.223709900Z",
     "start_time": "2023-12-25T11:04:59.911555300Z"
    }
   },
   "id": "7832c7827d066cbd"
  },
  {
   "cell_type": "code",
   "execution_count": 3,
   "outputs": [],
   "source": [
    "n_observations = 100\n",
    "n_actions = env.action_space.n"
   ],
   "metadata": {
    "collapsed": false,
    "ExecuteTime": {
     "end_time": "2023-12-25T11:05:00.226720100Z",
     "start_time": "2023-12-25T11:05:00.220150100Z"
    }
   },
   "id": "a02be3a782292c3c"
  },
  {
   "cell_type": "code",
   "execution_count": 4,
   "outputs": [],
   "source": [
    "#Initialize the q-table to 0\n",
    "q_table = np.zeros((n_observations,n_actions))"
   ],
   "metadata": {
    "collapsed": false,
    "ExecuteTime": {
     "end_time": "2023-12-25T11:05:00.240173200Z",
     "start_time": "2023-12-25T11:05:00.227719Z"
    }
   },
   "id": "b6cbf162f2747413"
  },
  {
   "cell_type": "code",
   "execution_count": 5,
   "outputs": [],
   "source": [
    "# Define the maximum number of iterations\n",
    "NUM_EPISODES = 1000"
   ],
   "metadata": {
    "collapsed": false,
    "ExecuteTime": {
     "end_time": "2023-12-25T11:05:00.250431500Z",
     "start_time": "2023-12-25T11:05:00.237632100Z"
    }
   },
   "id": "96f14485fbfd8bec"
  },
  {
   "cell_type": "code",
   "execution_count": 6,
   "outputs": [],
   "source": [
    "# Hyperparameters\n",
    "alpha = 0.9\n",
    "gamma = 0.9\n",
    "epsilon = 0.9"
   ],
   "metadata": {
    "collapsed": false,
    "ExecuteTime": {
     "end_time": "2023-12-25T11:05:00.420579900Z",
     "start_time": "2023-12-25T11:05:00.411481300Z"
    }
   },
   "id": "5fbd451e59ecf784"
  },
  {
   "cell_type": "code",
   "execution_count": null,
   "outputs": [],
   "source": [
    "counter = 0"
   ],
   "metadata": {
    "collapsed": false
   },
   "id": "32070dd820bdc923"
  },
  {
   "cell_type": "code",
   "execution_count": 9,
   "outputs": [
    {
     "ename": "KeyboardInterrupt",
     "evalue": "",
     "output_type": "error",
     "traceback": [
      "\u001B[1;31m---------------------------------------------------------------------------\u001B[0m",
      "\u001B[1;31mKeyboardInterrupt\u001B[0m                         Traceback (most recent call last)",
      "Cell \u001B[1;32mIn[9], line 12\u001B[0m\n\u001B[0;32m      9\u001B[0m penalties, reward, \u001B[38;5;241m=\u001B[39m \u001B[38;5;241m0\u001B[39m, \u001B[38;5;241m0\u001B[39m\n\u001B[0;32m     11\u001B[0m \u001B[38;5;28;01mwhile\u001B[39;00m \u001B[38;5;129;01mnot\u001B[39;00m done:\n\u001B[1;32m---> 12\u001B[0m     env\u001B[38;5;241m.\u001B[39mrender()\n\u001B[0;32m     13\u001B[0m     \u001B[38;5;28;01mif\u001B[39;00m random\u001B[38;5;241m.\u001B[39muniform(\u001B[38;5;241m0\u001B[39m, \u001B[38;5;241m1\u001B[39m) \u001B[38;5;241m<\u001B[39m epsilon:\n\u001B[0;32m     14\u001B[0m         action \u001B[38;5;241m=\u001B[39m env\u001B[38;5;241m.\u001B[39maction_space\u001B[38;5;241m.\u001B[39msample() \u001B[38;5;66;03m# Explore action space\u001B[39;00m\n",
      "File \u001B[1;32m~\\anaconda3\\Lib\\site-packages\\gym\\core.py:286\u001B[0m, in \u001B[0;36mWrapper.render\u001B[1;34m(self, mode, **kwargs)\u001B[0m\n\u001B[0;32m    285\u001B[0m \u001B[38;5;28;01mdef\u001B[39;00m \u001B[38;5;21mrender\u001B[39m(\u001B[38;5;28mself\u001B[39m, mode\u001B[38;5;241m=\u001B[39m\u001B[38;5;124m\"\u001B[39m\u001B[38;5;124mhuman\u001B[39m\u001B[38;5;124m\"\u001B[39m, \u001B[38;5;241m*\u001B[39m\u001B[38;5;241m*\u001B[39mkwargs):\n\u001B[1;32m--> 286\u001B[0m     \u001B[38;5;28;01mreturn\u001B[39;00m \u001B[38;5;28mself\u001B[39m\u001B[38;5;241m.\u001B[39menv\u001B[38;5;241m.\u001B[39mrender(mode, \u001B[38;5;241m*\u001B[39m\u001B[38;5;241m*\u001B[39mkwargs)\n",
      "File \u001B[1;32m~\\anaconda3\\Lib\\site-packages\\gym\\core.py:286\u001B[0m, in \u001B[0;36mWrapper.render\u001B[1;34m(self, mode, **kwargs)\u001B[0m\n\u001B[0;32m    285\u001B[0m \u001B[38;5;28;01mdef\u001B[39;00m \u001B[38;5;21mrender\u001B[39m(\u001B[38;5;28mself\u001B[39m, mode\u001B[38;5;241m=\u001B[39m\u001B[38;5;124m\"\u001B[39m\u001B[38;5;124mhuman\u001B[39m\u001B[38;5;124m\"\u001B[39m, \u001B[38;5;241m*\u001B[39m\u001B[38;5;241m*\u001B[39mkwargs):\n\u001B[1;32m--> 286\u001B[0m     \u001B[38;5;28;01mreturn\u001B[39;00m \u001B[38;5;28mself\u001B[39m\u001B[38;5;241m.\u001B[39menv\u001B[38;5;241m.\u001B[39mrender(mode, \u001B[38;5;241m*\u001B[39m\u001B[38;5;241m*\u001B[39mkwargs)\n",
      "File \u001B[1;32m~\\anaconda3\\Lib\\site-packages\\gym_maze-0.4-py3.11.egg\\gym_maze\\envs\\maze_env.py:134\u001B[0m, in \u001B[0;36mMazeEnv.render\u001B[1;34m(self, mode, close)\u001B[0m\n\u001B[0;32m    131\u001B[0m \u001B[38;5;28;01mif\u001B[39;00m close:\n\u001B[0;32m    132\u001B[0m     \u001B[38;5;28mself\u001B[39m\u001B[38;5;241m.\u001B[39mmaze_view\u001B[38;5;241m.\u001B[39mquit_game()\n\u001B[1;32m--> 134\u001B[0m \u001B[38;5;28;01mreturn\u001B[39;00m \u001B[38;5;28mself\u001B[39m\u001B[38;5;241m.\u001B[39mmaze_view\u001B[38;5;241m.\u001B[39mupdate(mode)\n",
      "File \u001B[1;32m~\\anaconda3\\Lib\\site-packages\\gym_maze-0.4-py3.11.egg\\gym_maze\\envs\\maze_view_2d.py:88\u001B[0m, in \u001B[0;36mMazeView2D.update\u001B[1;34m(self, mode)\u001B[0m\n\u001B[0;32m     86\u001B[0m \u001B[38;5;28;01mdef\u001B[39;00m \u001B[38;5;21mupdate\u001B[39m(\u001B[38;5;28mself\u001B[39m, mode\u001B[38;5;241m=\u001B[39m\u001B[38;5;124m\"\u001B[39m\u001B[38;5;124mhuman\u001B[39m\u001B[38;5;124m\"\u001B[39m):\n\u001B[0;32m     87\u001B[0m     \u001B[38;5;28;01mtry\u001B[39;00m:\n\u001B[1;32m---> 88\u001B[0m         img_output \u001B[38;5;241m=\u001B[39m \u001B[38;5;28mself\u001B[39m\u001B[38;5;241m.\u001B[39m__view_update(mode)\n\u001B[0;32m     89\u001B[0m         \u001B[38;5;28mself\u001B[39m\u001B[38;5;241m.\u001B[39m__controller_update()\n\u001B[0;32m     90\u001B[0m     \u001B[38;5;28;01mexcept\u001B[39;00m \u001B[38;5;167;01mException\u001B[39;00m \u001B[38;5;28;01mas\u001B[39;00m e:\n",
      "File \u001B[1;32m~\\anaconda3\\Lib\\site-packages\\gym_maze-0.4-py3.11.egg\\gym_maze\\envs\\maze_view_2d.py:151\u001B[0m, in \u001B[0;36mMazeView2D.__view_update\u001B[1;34m(self, mode)\u001B[0m\n\u001B[0;32m    148\u001B[0m \u001B[38;5;28mself\u001B[39m\u001B[38;5;241m.\u001B[39mscreen\u001B[38;5;241m.\u001B[39mblit(\u001B[38;5;28mself\u001B[39m\u001B[38;5;241m.\u001B[39mmaze_layer, (\u001B[38;5;241m0\u001B[39m, \u001B[38;5;241m0\u001B[39m))\n\u001B[0;32m    150\u001B[0m \u001B[38;5;28;01mif\u001B[39;00m mode \u001B[38;5;241m==\u001B[39m \u001B[38;5;124m\"\u001B[39m\u001B[38;5;124mhuman\u001B[39m\u001B[38;5;124m\"\u001B[39m:\n\u001B[1;32m--> 151\u001B[0m     pygame\u001B[38;5;241m.\u001B[39mdisplay\u001B[38;5;241m.\u001B[39mflip()\n\u001B[0;32m    153\u001B[0m \u001B[38;5;28;01mreturn\u001B[39;00m np\u001B[38;5;241m.\u001B[39mflipud(\n\u001B[0;32m    154\u001B[0m     np\u001B[38;5;241m.\u001B[39mrot90(pygame\u001B[38;5;241m.\u001B[39msurfarray\u001B[38;5;241m.\u001B[39marray3d(pygame\u001B[38;5;241m.\u001B[39mdisplay\u001B[38;5;241m.\u001B[39mget_surface()))\n\u001B[0;32m    155\u001B[0m )\n",
      "\u001B[1;31mKeyboardInterrupt\u001B[0m: "
     ]
    }
   ],
   "source": [
    "for episode in range(NUM_EPISODES):\n",
    "    #we initialize the first state of the episode\n",
    "    state = env.reset()\n",
    "    row = int(state[0])\n",
    "    col = int(state[1])\n",
    "    state_num = (row * 10) + col\n",
    "    done = False\n",
    "        \n",
    "    while not done:\n",
    "        env.render()\n",
    "        if random.uniform(0, 1) < epsilon:\n",
    "            action = env.action_space.sample() # Explore action space\n",
    "        else:\n",
    "            action = np.argmax(q_table[state_num]) # Exploit learned values\n",
    "\n",
    "        next_state, reward, done, truncated = env.step(action) \n",
    "        \n",
    "        next_state_row = next_state[0]\n",
    "        next_state_col = next_state[1]\n",
    "        next_state_num = (next_state_row * 10) + next_state_col\n",
    "        \n",
    "        old_value = q_table[state_num, action]\n",
    "        next_max = np.max(q_table[next_state_num])\n",
    "        \n",
    "        new_value = (1 - alpha) * old_value + alpha * (reward + gamma * next_max)\n",
    "        q_table[state_num, action] = new_value\n",
    "\n",
    "        if done:\n",
    "            counter += 1\n",
    "\n",
    "        state_num = next_state_num\n",
    "\n",
    "    # TODO: Implement the agent policy here\n",
    "    # Note: .sample() is used to sample random action from the environment's action space\n",
    "\n",
    "    # Choose an action (Replace this random action with your agent's policy)\n",
    "    # action = env.action_space.sample()\n",
    "\n",
    "    # Perform the action and receive feedback from the environment\n",
    "    # next_state, reward, done, truncated = env.step(action)\n",
    "\n",
    "    if done or truncated:\n",
    "        observation = env.reset()"
   ],
   "metadata": {
    "collapsed": false,
    "ExecuteTime": {
     "end_time": "2023-12-25T11:08:40.917753100Z",
     "start_time": "2023-12-25T11:05:53.283507100Z"
    }
   },
   "id": "8469237877abbf2"
  },
  {
   "cell_type": "code",
   "execution_count": 8,
   "outputs": [
    {
     "name": "stdout",
     "output_type": "stream",
     "text": [
      "[[0.23993827 0.2540719  0.24690972 0.23532514]\n",
      " [0.18638973 0.3259726  0.23505996 0.2302788 ]\n",
      " [0.19007338 0.31100791 0.32569409 0.39398848]\n",
      " [0.33702708 0.42804639 0.3410478  0.38884048]\n",
      " [0.32374768 0.47569149 0.46933996 0.43307818]\n",
      " [0.34378541 0.33552768 0.33975736 0.355678  ]\n",
      " [0.27337684 0.28587205 0.30161185 0.28630411]\n",
      " [0.30286977 0.28152202 0.34253834 0.29722419]\n",
      " [0.33457021 0.37504282 0.34833963 0.34607193]\n",
      " [0.39570385 0.29802709 0.30804088 0.3119988 ]\n",
      " [0.21742387 0.1899809  0.25408529 0.19587765]\n",
      " [0.20400163 0.20810274 0.20943576 0.2059015 ]\n",
      " [0.19420279 0.32307934 0.19424181 0.19376469]\n",
      " [0.24611721 0.38209692 0.29416564 0.38214914]\n",
      " [0.34222046 0.32822258 0.2688299  0.32928255]\n",
      " [0.2642968  0.44177814 0.38696033 0.41272797]\n",
      " [0.33597546 0.34298983 0.3248051  0.2806688 ]\n",
      " [0.29944356 0.2841139  0.28949654 0.28338495]\n",
      " [0.34372804 0.33994296 0.32631706 0.39262649]\n",
      " [0.30193082 0.30571193 0.2939379  0.28557377]\n",
      " [0.24460182 0.21607486 0.26677621 0.2170515 ]\n",
      " [0.22188111 0.2527399  0.25850727 0.22452465]\n",
      " [0.23184527 0.23143495 0.28302744 0.26847872]\n",
      " [0.25662365 0.26295791 0.23739096 0.25542673]\n",
      " [0.23684276 0.25838003 0.24619231 0.24133723]\n",
      " [0.26108724 0.34856879 0.25450716 0.31027404]\n",
      " [0.30866749 0.34627212 0.3411431  0.29871852]\n",
      " [0.42551694 0.37634062 0.34733257 0.37784603]\n",
      " [0.34258295 0.35026497 0.37686344 0.37745522]\n",
      " [0.19765655 0.19608014 0.21568864 0.19590494]\n",
      " [0.26394436 0.296396   0.26405864 0.25100681]\n",
      " [0.30228544 0.29294939 0.26502211 0.27349001]\n",
      " [0.28978881 0.24210145 0.2650161  0.24088058]\n",
      " [0.26215282 0.21062784 0.21124634 0.23563071]\n",
      " [0.22825734 0.25470831 0.2273293  0.25665744]\n",
      " [0.22480552 0.30850233 0.2569423  0.28981517]\n",
      " [0.47314983 0.42679927 0.5615001  0.46955549]\n",
      " [0.47407804 0.4257707  0.46918994 0.46399121]\n",
      " [0.22288114 0.22011482 0.24318789 0.22288685]\n",
      " [0.23635064 0.21797487 0.22334542 0.19966392]\n",
      " [0.2867416  0.33067401 0.27580627 0.2898577 ]\n",
      " [0.32472522 0.30522978 0.3016144  0.29901015]\n",
      " [0.29628086 0.37877971 0.34347106 0.33988506]\n",
      " [0.34676583 0.50955775 0.34535336 0.38343874]\n",
      " [0.50364267 0.52541656 0.46869865 0.5255747 ]\n",
      " [0.62089574 0.6188789  0.62807733 0.56910506]\n",
      " [0.57077064 0.56260414 0.58388554 0.48481076]\n",
      " [0.51105187 0.34366574 0.35742128 0.38525263]\n",
      " [0.35088814 0.33932755 0.40354608 0.34890782]\n",
      " [0.34248677 0.35649513 0.43048472 0.34527913]\n",
      " [0.24217015 0.30585891 0.24184043 0.2243594 ]\n",
      " [0.28320509 0.2779246  0.25892557 0.29608899]\n",
      " [0.32364749 0.2538915  0.21036752 0.27793426]\n",
      " [0.28059494 0.25013154 0.28354532 0.25378542]\n",
      " [0.56431712 0.6272857  0.57387748 0.57213789]\n",
      " [0.57805676 0.56264745 0.85298896 0.69718811]\n",
      " [0.62041882 0.49585719 0.50353817 0.62622204]\n",
      " [0.46131555 0.58679325 0.55182206 0.59149501]\n",
      " [0.36892353 0.42661177 0.4072574  0.40287908]\n",
      " [0.39460646 0.47800078 0.48911942 0.39050162]\n",
      " [0.27954183 0.24390033 0.19608232 0.26933618]\n",
      " [0.23491262 0.28878471 0.23438792 0.30900989]\n",
      " [0.27633061 0.2294258  0.20374984 0.21530155]\n",
      " [0.21009616 0.25930259 0.1877249  0.23449753]\n",
      " [0.29302424 0.33012242 0.36721081 0.33555912]\n",
      " [0.72290716 0.72156416 0.80427136 0.63614283]\n",
      " [0.47326725 0.50176055 0.51548829 0.55544068]\n",
      " [0.40440877 0.35969705 0.37682127 0.37563823]\n",
      " [0.47285821 0.42584657 0.42938576 0.45645425]\n",
      " [0.3411031  0.51164172 0.35222722 0.43851266]\n",
      " [0.21408844 0.21842348 0.19673118 0.21804869]\n",
      " [0.23215466 0.25451345 0.2779926  0.25885744]\n",
      " [0.21196291 0.18960892 0.20371335 0.22745927]\n",
      " [0.20428368 0.18707933 0.18882319 0.27506556]\n",
      " [0.34720509 0.39177223 0.40892428 0.33761032]\n",
      " [0.73621904 0.79727196 0.79744267 0.81171778]\n",
      " [0.48349553 0.50853979 0.5221969  0.42196569]\n",
      " [0.3811607  0.41162548 0.41136125 0.44191622]\n",
      " [0.57442216 0.78830552 0.80410476 0.69676161]\n",
      " [0.56134625 0.70947437 0.57169056 0.56984633]\n",
      " [0.20314619 0.22488242 0.22252798 0.19611902]\n",
      " [0.27987916 0.27029374 0.2791888  0.27559769]\n",
      " [0.24610836 0.28846022 0.23953167 0.21314819]\n",
      " [0.18891423 0.18919029 0.21768159 0.18947822]\n",
      " [0.40444109 0.45704283 0.41465683 0.35984055]\n",
      " [0.40623139 0.63611972 0.41907522 0.46174755]\n",
      " [0.55108471 0.57630868 0.70544392 0.56674505]\n",
      " [0.71357822 0.79723939 0.6511906  0.78872381]\n",
      " [0.71130319 0.88812032 0.89862173 0.70891619]\n",
      " [0.87251658 0.85136976 0.99730626 0.54918982]\n",
      " [0.27452216 0.28305563 0.27643914 0.23067535]\n",
      " [0.25310577 0.28516041 0.30754969 0.34767876]\n",
      " [0.30950543 0.40414452 0.31871501 0.27591976]\n",
      " [0.36802848 0.3609407  0.33700508 0.33423206]\n",
      " [0.33701939 0.37677761 0.40519591 0.36868723]\n",
      " [0.3760353  0.41938703 0.48146119 0.41434849]\n",
      " [0.62061482 0.48624044 0.54882262 0.61144428]\n",
      " [0.53799668 0.47503292 0.53393918 0.54227198]\n",
      " [0.89899749 0.9999998  0.89859051 0.79119959]\n",
      " [0.         0.         0.         0.        ]]\n"
     ]
    }
   ],
   "source": [
    "print(counter)\n",
    "print(q_table)"
   ],
   "metadata": {
    "collapsed": false,
    "ExecuteTime": {
     "end_time": "2023-12-25T11:05:25.268773800Z",
     "start_time": "2023-12-25T11:05:25.259306600Z"
    }
   },
   "id": "4d6cee8b0b596088"
  },
  {
   "cell_type": "code",
   "execution_count": 16,
   "outputs": [],
   "source": [
    "# Close the environment\n",
    "env.close()"
   ],
   "metadata": {
    "collapsed": false,
    "ExecuteTime": {
     "end_time": "2023-12-25T11:03:02.617235900Z",
     "start_time": "2023-12-25T11:03:02.617235900Z"
    }
   },
   "id": "27d8dd80c3a3ecaf"
  },
  {
   "cell_type": "code",
   "execution_count": null,
   "outputs": [],
   "source": [],
   "metadata": {
    "collapsed": false
   },
   "id": "68c423624affb2fd"
  }
 ],
 "metadata": {
  "kernelspec": {
   "display_name": "Python 3 (ipykernel)",
   "language": "python",
   "name": "python3"
  },
  "language_info": {
   "codemirror_mode": {
    "name": "ipython",
    "version": 3
   },
   "file_extension": ".py",
   "mimetype": "text/x-python",
   "name": "python",
   "nbconvert_exporter": "python",
   "pygments_lexer": "ipython3",
   "version": "3.11.5"
  }
 },
 "nbformat": 4,
 "nbformat_minor": 5
}
