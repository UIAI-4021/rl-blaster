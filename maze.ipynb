{
 "cells": [
  {
   "cell_type": "code",
   "execution_count": 37,
   "id": "463074a7",
   "metadata": {
    "ExecuteTime": {
     "end_time": "2023-12-25T11:56:40.202068500Z",
     "start_time": "2023-12-25T11:56:40.191817400Z"
    }
   },
   "outputs": [],
   "source": [
    "import gym\n",
    "import gym_maze\n",
    "import numpy as np\n",
    "import random"
   ]
  },
  {
   "cell_type": "code",
   "execution_count": 38,
   "outputs": [],
   "source": [
    "# Create an environment\n",
    "env = gym.make(\"maze-random-10x10-plus-v0\")\n",
    "observation = env.reset()"
   ],
   "metadata": {
    "collapsed": false,
    "ExecuteTime": {
     "end_time": "2023-12-25T11:56:40.681097900Z",
     "start_time": "2023-12-25T11:56:40.670561100Z"
    }
   },
   "id": "7832c7827d066cbd"
  },
  {
   "cell_type": "code",
   "execution_count": 39,
   "outputs": [],
   "source": [
    "n_observations = 100\n",
    "n_actions = env.action_space.n"
   ],
   "metadata": {
    "collapsed": false,
    "ExecuteTime": {
     "end_time": "2023-12-25T11:56:40.694072100Z",
     "start_time": "2023-12-25T11:56:40.685074500Z"
    }
   },
   "id": "a02be3a782292c3c"
  },
  {
   "cell_type": "code",
   "execution_count": 40,
   "outputs": [],
   "source": [
    "#Initialize the q-table to 0\n",
    "q_table = np.zeros((n_observations,n_actions))"
   ],
   "metadata": {
    "collapsed": false,
    "ExecuteTime": {
     "end_time": "2023-12-25T11:56:40.810821100Z",
     "start_time": "2023-12-25T11:56:40.803602Z"
    }
   },
   "id": "b6cbf162f2747413"
  },
  {
   "cell_type": "code",
   "execution_count": 41,
   "outputs": [],
   "source": [
    "# Define the maximum number of iterations\n",
    "NUM_EPISODES = 1000"
   ],
   "metadata": {
    "collapsed": false,
    "ExecuteTime": {
     "end_time": "2023-12-25T11:56:41.018095100Z",
     "start_time": "2023-12-25T11:56:41.008103700Z"
    }
   },
   "id": "96f14485fbfd8bec"
  },
  {
   "cell_type": "code",
   "execution_count": 42,
   "outputs": [],
   "source": [
    "# Hyperparameters\n",
    "alpha = 0.1\n",
    "gamma = 0.9"
   ],
   "metadata": {
    "collapsed": false,
    "ExecuteTime": {
     "end_time": "2023-12-25T11:56:41.240272600Z",
     "start_time": "2023-12-25T11:56:41.231075200Z"
    }
   },
   "id": "5fbd451e59ecf784"
  },
  {
   "cell_type": "code",
   "execution_count": 43,
   "outputs": [],
   "source": [
    "#initialize the exploration probability to 1\n",
    "exploration_proba = 1\n",
    "#exploartion decreasing decay for exponential decreasing\n",
    "exploration_decreasing_decay = 0.001\n",
    "# minimum of exploration proba\n",
    "min_exploration_proba = 0.01"
   ],
   "metadata": {
    "collapsed": false,
    "ExecuteTime": {
     "end_time": "2023-12-25T11:56:41.627826400Z",
     "start_time": "2023-12-25T11:56:41.619836600Z"
    }
   },
   "id": "17fe7750bc605f8c"
  },
  {
   "cell_type": "code",
   "execution_count": 44,
   "outputs": [
    {
     "ename": "KeyboardInterrupt",
     "evalue": "",
     "output_type": "error",
     "traceback": [
      "\u001B[1;31m---------------------------------------------------------------------------\u001B[0m",
      "\u001B[1;31mKeyboardInterrupt\u001B[0m                         Traceback (most recent call last)",
      "Cell \u001B[1;32mIn[44], line 11\u001B[0m\n\u001B[0;32m      8\u001B[0m done \u001B[38;5;241m=\u001B[39m \u001B[38;5;28;01mFalse\u001B[39;00m\n\u001B[0;32m     10\u001B[0m \u001B[38;5;28;01mwhile\u001B[39;00m \u001B[38;5;129;01mnot\u001B[39;00m done:\n\u001B[1;32m---> 11\u001B[0m     env\u001B[38;5;241m.\u001B[39mrender()\n\u001B[0;32m     12\u001B[0m     \u001B[38;5;28;01mif\u001B[39;00m random\u001B[38;5;241m.\u001B[39muniform(\u001B[38;5;241m0\u001B[39m, \u001B[38;5;241m1\u001B[39m) \u001B[38;5;241m<\u001B[39m exploration_proba:\n\u001B[0;32m     13\u001B[0m         action \u001B[38;5;241m=\u001B[39m env\u001B[38;5;241m.\u001B[39maction_space\u001B[38;5;241m.\u001B[39msample() \u001B[38;5;66;03m# Explore action space\u001B[39;00m\n",
      "File \u001B[1;32m~\\anaconda3\\Lib\\site-packages\\gym\\core.py:286\u001B[0m, in \u001B[0;36mWrapper.render\u001B[1;34m(self, mode, **kwargs)\u001B[0m\n\u001B[0;32m    285\u001B[0m \u001B[38;5;28;01mdef\u001B[39;00m \u001B[38;5;21mrender\u001B[39m(\u001B[38;5;28mself\u001B[39m, mode\u001B[38;5;241m=\u001B[39m\u001B[38;5;124m\"\u001B[39m\u001B[38;5;124mhuman\u001B[39m\u001B[38;5;124m\"\u001B[39m, \u001B[38;5;241m*\u001B[39m\u001B[38;5;241m*\u001B[39mkwargs):\n\u001B[1;32m--> 286\u001B[0m     \u001B[38;5;28;01mreturn\u001B[39;00m \u001B[38;5;28mself\u001B[39m\u001B[38;5;241m.\u001B[39menv\u001B[38;5;241m.\u001B[39mrender(mode, \u001B[38;5;241m*\u001B[39m\u001B[38;5;241m*\u001B[39mkwargs)\n",
      "File \u001B[1;32m~\\anaconda3\\Lib\\site-packages\\gym\\core.py:286\u001B[0m, in \u001B[0;36mWrapper.render\u001B[1;34m(self, mode, **kwargs)\u001B[0m\n\u001B[0;32m    285\u001B[0m \u001B[38;5;28;01mdef\u001B[39;00m \u001B[38;5;21mrender\u001B[39m(\u001B[38;5;28mself\u001B[39m, mode\u001B[38;5;241m=\u001B[39m\u001B[38;5;124m\"\u001B[39m\u001B[38;5;124mhuman\u001B[39m\u001B[38;5;124m\"\u001B[39m, \u001B[38;5;241m*\u001B[39m\u001B[38;5;241m*\u001B[39mkwargs):\n\u001B[1;32m--> 286\u001B[0m     \u001B[38;5;28;01mreturn\u001B[39;00m \u001B[38;5;28mself\u001B[39m\u001B[38;5;241m.\u001B[39menv\u001B[38;5;241m.\u001B[39mrender(mode, \u001B[38;5;241m*\u001B[39m\u001B[38;5;241m*\u001B[39mkwargs)\n",
      "File \u001B[1;32m~\\anaconda3\\Lib\\site-packages\\gym_maze-0.4-py3.11.egg\\gym_maze\\envs\\maze_env.py:134\u001B[0m, in \u001B[0;36mMazeEnv.render\u001B[1;34m(self, mode, close)\u001B[0m\n\u001B[0;32m    131\u001B[0m \u001B[38;5;28;01mif\u001B[39;00m close:\n\u001B[0;32m    132\u001B[0m     \u001B[38;5;28mself\u001B[39m\u001B[38;5;241m.\u001B[39mmaze_view\u001B[38;5;241m.\u001B[39mquit_game()\n\u001B[1;32m--> 134\u001B[0m \u001B[38;5;28;01mreturn\u001B[39;00m \u001B[38;5;28mself\u001B[39m\u001B[38;5;241m.\u001B[39mmaze_view\u001B[38;5;241m.\u001B[39mupdate(mode)\n",
      "File \u001B[1;32m~\\anaconda3\\Lib\\site-packages\\gym_maze-0.4-py3.11.egg\\gym_maze\\envs\\maze_view_2d.py:88\u001B[0m, in \u001B[0;36mMazeView2D.update\u001B[1;34m(self, mode)\u001B[0m\n\u001B[0;32m     86\u001B[0m \u001B[38;5;28;01mdef\u001B[39;00m \u001B[38;5;21mupdate\u001B[39m(\u001B[38;5;28mself\u001B[39m, mode\u001B[38;5;241m=\u001B[39m\u001B[38;5;124m\"\u001B[39m\u001B[38;5;124mhuman\u001B[39m\u001B[38;5;124m\"\u001B[39m):\n\u001B[0;32m     87\u001B[0m     \u001B[38;5;28;01mtry\u001B[39;00m:\n\u001B[1;32m---> 88\u001B[0m         img_output \u001B[38;5;241m=\u001B[39m \u001B[38;5;28mself\u001B[39m\u001B[38;5;241m.\u001B[39m__view_update(mode)\n\u001B[0;32m     89\u001B[0m         \u001B[38;5;28mself\u001B[39m\u001B[38;5;241m.\u001B[39m__controller_update()\n\u001B[0;32m     90\u001B[0m     \u001B[38;5;28;01mexcept\u001B[39;00m \u001B[38;5;167;01mException\u001B[39;00m \u001B[38;5;28;01mas\u001B[39;00m e:\n",
      "File \u001B[1;32m~\\anaconda3\\Lib\\site-packages\\gym_maze-0.4-py3.11.egg\\gym_maze\\envs\\maze_view_2d.py:151\u001B[0m, in \u001B[0;36mMazeView2D.__view_update\u001B[1;34m(self, mode)\u001B[0m\n\u001B[0;32m    148\u001B[0m \u001B[38;5;28mself\u001B[39m\u001B[38;5;241m.\u001B[39mscreen\u001B[38;5;241m.\u001B[39mblit(\u001B[38;5;28mself\u001B[39m\u001B[38;5;241m.\u001B[39mmaze_layer, (\u001B[38;5;241m0\u001B[39m, \u001B[38;5;241m0\u001B[39m))\n\u001B[0;32m    150\u001B[0m \u001B[38;5;28;01mif\u001B[39;00m mode \u001B[38;5;241m==\u001B[39m \u001B[38;5;124m\"\u001B[39m\u001B[38;5;124mhuman\u001B[39m\u001B[38;5;124m\"\u001B[39m:\n\u001B[1;32m--> 151\u001B[0m     pygame\u001B[38;5;241m.\u001B[39mdisplay\u001B[38;5;241m.\u001B[39mflip()\n\u001B[0;32m    153\u001B[0m \u001B[38;5;28;01mreturn\u001B[39;00m np\u001B[38;5;241m.\u001B[39mflipud(\n\u001B[0;32m    154\u001B[0m     np\u001B[38;5;241m.\u001B[39mrot90(pygame\u001B[38;5;241m.\u001B[39msurfarray\u001B[38;5;241m.\u001B[39marray3d(pygame\u001B[38;5;241m.\u001B[39mdisplay\u001B[38;5;241m.\u001B[39mget_surface()))\n\u001B[0;32m    155\u001B[0m )\n",
      "\u001B[1;31mKeyboardInterrupt\u001B[0m: "
     ]
    }
   ],
   "source": [
    "for episode in range(NUM_EPISODES):\n",
    "    \n",
    "    #we initialize the first state of the episode\n",
    "    state = env.reset()\n",
    "    row = int(state[0])\n",
    "    col = int(state[1])\n",
    "    state_num = (row * 10) + col\n",
    "    done = False\n",
    "    \n",
    "    step = 0  \n",
    "    while not done:\n",
    "        # env.render()\n",
    "        if random.uniform(0, 1) < exploration_proba:\n",
    "            action = env.action_space.sample() # Explore action space\n",
    "        else:\n",
    "            action = np.argmax(q_table[state_num]) # Exploit learned values\n",
    "\n",
    "        next_state, reward, done, truncated = env.step(action) \n",
    "        \n",
    "        next_state_row = next_state[0]\n",
    "        next_state_col = next_state[1]\n",
    "        next_state_num = (next_state_row * 10) + next_state_col\n",
    "        \n",
    "        old_value = q_table[state_num, action]\n",
    "        next_max = np.max(q_table[next_state_num])\n",
    "        \n",
    "        new_value = (1 - alpha) * old_value + alpha * (reward + gamma * next_max)\n",
    "        q_table[state_num, action] = new_value\n",
    "\n",
    "        state_num = next_state_num\n",
    "        \n",
    "        #We update the exploration proba using exponential decay formula \n",
    "        exploration_proba = max(min_exploration_proba, np.exp(-exploration_decreasing_decay * episode))\n",
    "\n",
    "    if done or truncated:\n",
    "        observation = env.reset()"
   ],
   "metadata": {
    "collapsed": false,
    "ExecuteTime": {
     "end_time": "2023-12-25T11:57:31.206661500Z",
     "start_time": "2023-12-25T11:56:41.959415400Z"
    }
   },
   "id": "8469237877abbf2"
  },
  {
   "cell_type": "code",
   "execution_count": null,
   "outputs": [],
   "source": [
    "print(q_table)"
   ],
   "metadata": {
    "collapsed": false,
    "ExecuteTime": {
     "end_time": "2023-12-25T11:57:31.215435900Z",
     "start_time": "2023-12-25T11:57:31.208618500Z"
    }
   },
   "id": "4d6cee8b0b596088"
  },
  {
   "cell_type": "code",
   "execution_count": 36,
   "outputs": [],
   "source": [
    "# Close the environment\n",
    "env.close()"
   ],
   "metadata": {
    "collapsed": false,
    "ExecuteTime": {
     "end_time": "2023-12-25T11:56:36.190314600Z",
     "start_time": "2023-12-25T11:56:36.190314600Z"
    }
   },
   "id": "27d8dd80c3a3ecaf"
  },
  {
   "cell_type": "code",
   "execution_count": null,
   "outputs": [],
   "source": [],
   "metadata": {
    "collapsed": false
   },
   "id": "68c423624affb2fd"
  }
 ],
 "metadata": {
  "kernelspec": {
   "display_name": "Python 3 (ipykernel)",
   "language": "python",
   "name": "python3"
  },
  "language_info": {
   "codemirror_mode": {
    "name": "ipython",
    "version": 3
   },
   "file_extension": ".py",
   "mimetype": "text/x-python",
   "name": "python",
   "nbconvert_exporter": "python",
   "pygments_lexer": "ipython3",
   "version": "3.11.5"
  }
 },
 "nbformat": 4,
 "nbformat_minor": 5
}
